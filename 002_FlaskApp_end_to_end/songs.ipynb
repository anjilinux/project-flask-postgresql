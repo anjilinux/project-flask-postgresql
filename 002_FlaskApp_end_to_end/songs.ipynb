{
 "cells": [
  {
   "cell_type": "code",
   "execution_count": 1,
   "metadata": {},
   "outputs": [],
   "source": [
    "import pandas as pd"
   ]
  },
  {
   "cell_type": "code",
   "execution_count": 2,
   "metadata": {},
   "outputs": [],
   "source": [
    "# https://www.kaggle.com/datasets/emreokcular/turkish-song-lyrics\n",
    "df = pd.read_csv('turkish_song_lyrics.csv')"
   ]
  },
  {
   "cell_type": "code",
   "execution_count": 5,
   "metadata": {},
   "outputs": [
    {
     "data": {
      "text/html": [
       "<div>\n",
       "<style scoped>\n",
       "    .dataframe tbody tr th:only-of-type {\n",
       "        vertical-align: middle;\n",
       "    }\n",
       "\n",
       "    .dataframe tbody tr th {\n",
       "        vertical-align: top;\n",
       "    }\n",
       "\n",
       "    .dataframe thead th {\n",
       "        text-align: right;\n",
       "    }\n",
       "</style>\n",
       "<table border=\"1\" class=\"dataframe\">\n",
       "  <thead>\n",
       "    <tr style=\"text-align: right;\">\n",
       "      <th></th>\n",
       "      <th>singer</th>\n",
       "      <th>song</th>\n",
       "      <th>album</th>\n",
       "      <th>lyrics</th>\n",
       "    </tr>\n",
       "  </thead>\n",
       "  <tbody>\n",
       "    <tr>\n",
       "      <th>0</th>\n",
       "      <td>Sagopa Kajmer</td>\n",
       "      <td>3 Sefil Şair (feat Derin Darbe)</td>\n",
       "      <td>Romantizma</td>\n",
       "      <td>\"Fakir bir şairim ama,Yüreğim zengin a canımFa...</td>\n",
       "    </tr>\n",
       "    <tr>\n",
       "      <th>1</th>\n",
       "      <td>Zeki Müren</td>\n",
       "      <td>Hangi Rüzgar Attı Seni</td>\n",
       "      <td>Gözlerin Doğuyor Gecelerime</td>\n",
       "      <td>\"Hangi rüzgar attı seni\\nÖzlemişim görmeyeli\\n...</td>\n",
       "    </tr>\n",
       "    <tr>\n",
       "      <th>2</th>\n",
       "      <td>Serdar Ortaç</td>\n",
       "      <td>Namert Dünyasın</td>\n",
       "      <td>NaN</td>\n",
       "      <td>\"Sözüm dinle dünya bir müddet\\nO kadar da işle...</td>\n",
       "    </tr>\n",
       "    <tr>\n",
       "      <th>3</th>\n",
       "      <td>Sagopa Kajmer</td>\n",
       "      <td>Bebeğim Öldü</td>\n",
       "      <td>Romantizma</td>\n",
       "      <td>\"Ve bebekler de ölür\"\\nHayatımın gerçek öyküle...</td>\n",
       "    </tr>\n",
       "    <tr>\n",
       "      <th>4</th>\n",
       "      <td>Tarkan</td>\n",
       "      <td>Bounce</td>\n",
       "      <td>Yine Sensiz</td>\n",
       "      <td>\"if you\" \\nlet me see you bounce (x2) \\nif you...</td>\n",
       "    </tr>\n",
       "  </tbody>\n",
       "</table>\n",
       "</div>"
      ],
      "text/plain": [
       "          singer                             song  \\\n",
       "0  Sagopa Kajmer  3 Sefil Şair (feat Derin Darbe)   \n",
       "1     Zeki Müren           Hangi Rüzgar Attı Seni   \n",
       "2   Serdar Ortaç                  Namert Dünyasın   \n",
       "3  Sagopa Kajmer                     Bebeğim Öldü   \n",
       "4         Tarkan                           Bounce   \n",
       "\n",
       "                         album  \\\n",
       "0                   Romantizma   \n",
       "1  Gözlerin Doğuyor Gecelerime   \n",
       "2                          NaN   \n",
       "3                   Romantizma   \n",
       "4                  Yine Sensiz   \n",
       "\n",
       "                                              lyrics  \n",
       "0  \"Fakir bir şairim ama,Yüreğim zengin a canımFa...  \n",
       "1  \"Hangi rüzgar attı seni\\nÖzlemişim görmeyeli\\n...  \n",
       "2  \"Sözüm dinle dünya bir müddet\\nO kadar da işle...  \n",
       "3  \"Ve bebekler de ölür\"\\nHayatımın gerçek öyküle...  \n",
       "4  \"if you\" \\nlet me see you bounce (x2) \\nif you...  "
      ]
     },
     "execution_count": 5,
     "metadata": {},
     "output_type": "execute_result"
    }
   ],
   "source": [
    "df.head()"
   ]
  },
  {
   "cell_type": "code",
   "execution_count": null,
   "metadata": {},
   "outputs": [],
   "source": [
    "# CREATE TABLE songtable (song_id serial primary key, singer VARCHAR(70), song VARCHAR(70), album VARCHAR(70), lyrics TEXT);"
   ]
  },
  {
   "cell_type": "code",
   "execution_count": 14,
   "metadata": {},
   "outputs": [],
   "source": [
    "# required library imports\n",
    "import pandas as pd\n",
    "import psycopg2\n",
    "\n",
    "import yaml\n",
    "import warnings\n",
    "\n",
    "warnings.filterwarnings('ignore')\n",
    "\n",
    "# read connection.yaml\n",
    "with open('connection.yaml', 'r') as file:\n",
    "    infos = yaml.safe_load(file)\n",
    "\n",
    "# connect database\n",
    "conn = psycopg2.connect(user= infos['user'],\n",
    "                        password= infos['password'],\n",
    "                        host= infos['host'],\n",
    "                        database= infos['database'])"
   ]
  },
  {
   "cell_type": "code",
   "execution_count": 15,
   "metadata": {},
   "outputs": [],
   "source": [
    "def read_songtable(query):\n",
    "    df = pd.read_sql(query, conn)\n",
    "    return df"
   ]
  },
  {
   "cell_type": "code",
   "execution_count": 16,
   "metadata": {},
   "outputs": [
    {
     "data": {
      "text/html": [
       "<div>\n",
       "<style scoped>\n",
       "    .dataframe tbody tr th:only-of-type {\n",
       "        vertical-align: middle;\n",
       "    }\n",
       "\n",
       "    .dataframe tbody tr th {\n",
       "        vertical-align: top;\n",
       "    }\n",
       "\n",
       "    .dataframe thead th {\n",
       "        text-align: right;\n",
       "    }\n",
       "</style>\n",
       "<table border=\"1\" class=\"dataframe\">\n",
       "  <thead>\n",
       "    <tr style=\"text-align: right;\">\n",
       "      <th></th>\n",
       "      <th>song_id</th>\n",
       "      <th>singer</th>\n",
       "      <th>song</th>\n",
       "      <th>album</th>\n",
       "      <th>lyrics</th>\n",
       "    </tr>\n",
       "  </thead>\n",
       "  <tbody>\n",
       "  </tbody>\n",
       "</table>\n",
       "</div>"
      ],
      "text/plain": [
       "Empty DataFrame\n",
       "Columns: [song_id, singer, song, album, lyrics]\n",
       "Index: []"
      ]
     },
     "execution_count": 16,
     "metadata": {},
     "output_type": "execute_result"
    }
   ],
   "source": [
    "read_songtable('SELECT * FROM songtable')"
   ]
  },
  {
   "cell_type": "code",
   "execution_count": 17,
   "metadata": {},
   "outputs": [],
   "source": [
    "insert_query = \"\"\"INSERT INTO songtable (singer, song, album, lyrics) VALUES (%s, %s, %s, %s)\"\"\""
   ]
  },
  {
   "cell_type": "code",
   "execution_count": 19,
   "metadata": {},
   "outputs": [],
   "source": [
    "def insert_songtable_many(df):\n",
    "    \"\"\"Fonksiyon input olarak pandas dataframe alir.\"\"\"\n",
    "    \n",
    "    conn = psycopg2.connect(user= infos['user'],\n",
    "                            password= infos['password'],\n",
    "                            host= infos['host'],\n",
    "                            database= infos['database'])\n",
    "\n",
    "    cursor = conn.cursor()\n",
    "\n",
    "    for i in range(len(df)):\n",
    "        cursor.execute(insert_query, tuple(df.iloc[i, :]))\n",
    "        if i % 5000 == 0:\n",
    "            conn.commit()\n",
    "    conn.commit()\n",
    "\n",
    "    cursor.close()\n",
    "    print(f'{len(df)} rows were inserted.')"
   ]
  },
  {
   "cell_type": "code",
   "execution_count": 20,
   "metadata": {},
   "outputs": [
    {
     "name": "stdout",
     "output_type": "stream",
     "text": [
      "4975 rows were inserted.\n"
     ]
    }
   ],
   "source": [
    "insert_songtable_many(df)"
   ]
  },
  {
   "cell_type": "code",
   "execution_count": 21,
   "metadata": {},
   "outputs": [
    {
     "data": {
      "text/html": [
       "<div>\n",
       "<style scoped>\n",
       "    .dataframe tbody tr th:only-of-type {\n",
       "        vertical-align: middle;\n",
       "    }\n",
       "\n",
       "    .dataframe tbody tr th {\n",
       "        vertical-align: top;\n",
       "    }\n",
       "\n",
       "    .dataframe thead th {\n",
       "        text-align: right;\n",
       "    }\n",
       "</style>\n",
       "<table border=\"1\" class=\"dataframe\">\n",
       "  <thead>\n",
       "    <tr style=\"text-align: right;\">\n",
       "      <th></th>\n",
       "      <th>song_id</th>\n",
       "      <th>singer</th>\n",
       "      <th>song</th>\n",
       "      <th>album</th>\n",
       "      <th>lyrics</th>\n",
       "    </tr>\n",
       "  </thead>\n",
       "  <tbody>\n",
       "    <tr>\n",
       "      <th>0</th>\n",
       "      <td>1</td>\n",
       "      <td>Sagopa Kajmer</td>\n",
       "      <td>3 Sefil Şair (feat Derin Darbe)</td>\n",
       "      <td>Romantizma</td>\n",
       "      <td>\"Fakir bir şairim ama,Yüreğim zengin a canımFa...</td>\n",
       "    </tr>\n",
       "    <tr>\n",
       "      <th>1</th>\n",
       "      <td>2</td>\n",
       "      <td>Zeki Müren</td>\n",
       "      <td>Hangi Rüzgar Attı Seni</td>\n",
       "      <td>Gözlerin Doğuyor Gecelerime</td>\n",
       "      <td>\"Hangi rüzgar attı seni\\nÖzlemişim görmeyeli\\n...</td>\n",
       "    </tr>\n",
       "    <tr>\n",
       "      <th>2</th>\n",
       "      <td>3</td>\n",
       "      <td>Serdar Ortaç</td>\n",
       "      <td>Namert Dünyasın</td>\n",
       "      <td>NaN</td>\n",
       "      <td>\"Sözüm dinle dünya bir müddet\\nO kadar da işle...</td>\n",
       "    </tr>\n",
       "    <tr>\n",
       "      <th>3</th>\n",
       "      <td>4</td>\n",
       "      <td>Sagopa Kajmer</td>\n",
       "      <td>Bebeğim Öldü</td>\n",
       "      <td>Romantizma</td>\n",
       "      <td>\"Ve bebekler de ölür\"\\nHayatımın gerçek öyküle...</td>\n",
       "    </tr>\n",
       "    <tr>\n",
       "      <th>4</th>\n",
       "      <td>5</td>\n",
       "      <td>Tarkan</td>\n",
       "      <td>Bounce</td>\n",
       "      <td>Yine Sensiz</td>\n",
       "      <td>\"if you\" \\nlet me see you bounce (x2) \\nif you...</td>\n",
       "    </tr>\n",
       "    <tr>\n",
       "      <th>...</th>\n",
       "      <td>...</td>\n",
       "      <td>...</td>\n",
       "      <td>...</td>\n",
       "      <td>...</td>\n",
       "      <td>...</td>\n",
       "    </tr>\n",
       "    <tr>\n",
       "      <th>4970</th>\n",
       "      <td>4971</td>\n",
       "      <td>Sagopa Kajmer</td>\n",
       "      <td>Kurşun Asker</td>\n",
       "      <td>Pessimist EP 4</td>\n",
       "      <td>ŞİKAYETNAME\\nYAPILACAK İŞ EKİLMEYE HAZIR BAHÇE...</td>\n",
       "    </tr>\n",
       "    <tr>\n",
       "      <th>4971</th>\n",
       "      <td>4972</td>\n",
       "      <td>Duman</td>\n",
       "      <td>Bu Aşk Beni Yorar</td>\n",
       "      <td>NaN</td>\n",
       "      <td>şarkılar, o şarkılar\\növünmek zor, ölüm çok zo...</td>\n",
       "    </tr>\n",
       "    <tr>\n",
       "      <th>4972</th>\n",
       "      <td>4973</td>\n",
       "      <td>Candan Erçetin</td>\n",
       "      <td>Bir Dalda İki Kiraz</td>\n",
       "      <td>Aman Doktor</td>\n",
       "      <td>Σάλα σάλα, μες στη σάλα τα μιλήσαμε          \\...</td>\n",
       "    </tr>\n",
       "    <tr>\n",
       "      <th>4973</th>\n",
       "      <td>4974</td>\n",
       "      <td>Sagopa Kajmer</td>\n",
       "      <td>Yirmi Dört</td>\n",
       "      <td>NaN</td>\n",
       "      <td>”Acımasızca geçip giden zamandan geriye kalan ...</td>\n",
       "    </tr>\n",
       "    <tr>\n",
       "      <th>4974</th>\n",
       "      <td>4975</td>\n",
       "      <td>Mabel Matiz</td>\n",
       "      <td>Matizin Şarkısı</td>\n",
       "      <td>Arafta</td>\n",
       "      <td>﻿﻿Ahh\\nMeriç'in orta yerinde vurulur canım\\nBe...</td>\n",
       "    </tr>\n",
       "  </tbody>\n",
       "</table>\n",
       "<p>4975 rows × 5 columns</p>\n",
       "</div>"
      ],
      "text/plain": [
       "      song_id          singer                             song  \\\n",
       "0           1   Sagopa Kajmer  3 Sefil Şair (feat Derin Darbe)   \n",
       "1           2      Zeki Müren           Hangi Rüzgar Attı Seni   \n",
       "2           3    Serdar Ortaç                  Namert Dünyasın   \n",
       "3           4   Sagopa Kajmer                     Bebeğim Öldü   \n",
       "4           5          Tarkan                           Bounce   \n",
       "...       ...             ...                              ...   \n",
       "4970     4971   Sagopa Kajmer                     Kurşun Asker   \n",
       "4971     4972           Duman                Bu Aşk Beni Yorar   \n",
       "4972     4973  Candan Erçetin              Bir Dalda İki Kiraz   \n",
       "4973     4974   Sagopa Kajmer                       Yirmi Dört   \n",
       "4974     4975     Mabel Matiz                  Matizin Şarkısı   \n",
       "\n",
       "                            album  \\\n",
       "0                      Romantizma   \n",
       "1     Gözlerin Doğuyor Gecelerime   \n",
       "2                             NaN   \n",
       "3                      Romantizma   \n",
       "4                     Yine Sensiz   \n",
       "...                           ...   \n",
       "4970               Pessimist EP 4   \n",
       "4971                          NaN   \n",
       "4972                  Aman Doktor   \n",
       "4973                          NaN   \n",
       "4974                       Arafta   \n",
       "\n",
       "                                                 lyrics  \n",
       "0     \"Fakir bir şairim ama,Yüreğim zengin a canımFa...  \n",
       "1     \"Hangi rüzgar attı seni\\nÖzlemişim görmeyeli\\n...  \n",
       "2     \"Sözüm dinle dünya bir müddet\\nO kadar da işle...  \n",
       "3     \"Ve bebekler de ölür\"\\nHayatımın gerçek öyküle...  \n",
       "4     \"if you\" \\nlet me see you bounce (x2) \\nif you...  \n",
       "...                                                 ...  \n",
       "4970  ŞİKAYETNAME\\nYAPILACAK İŞ EKİLMEYE HAZIR BAHÇE...  \n",
       "4971  şarkılar, o şarkılar\\növünmek zor, ölüm çok zo...  \n",
       "4972  Σάλα σάλα, μες στη σάλα τα μιλήσαμε          \\...  \n",
       "4973  ”Acımasızca geçip giden zamandan geriye kalan ...  \n",
       "4974  ﻿﻿Ahh\\nMeriç'in orta yerinde vurulur canım\\nBe...  \n",
       "\n",
       "[4975 rows x 5 columns]"
      ]
     },
     "execution_count": 21,
     "metadata": {},
     "output_type": "execute_result"
    }
   ],
   "source": [
    "read_songtable('SELECT * FROM SONGTABLE')"
   ]
  },
  {
   "cell_type": "code",
   "execution_count": null,
   "metadata": {},
   "outputs": [],
   "source": []
  }
 ],
 "metadata": {
  "kernelspec": {
   "display_name": "Python 3.7.6 64-bit",
   "language": "python",
   "name": "python3"
  },
  "language_info": {
   "codemirror_mode": {
    "name": "ipython",
    "version": 3
   },
   "file_extension": ".py",
   "mimetype": "text/x-python",
   "name": "python",
   "nbconvert_exporter": "python",
   "pygments_lexer": "ipython3",
   "version": "3.7.6"
  },
  "orig_nbformat": 4,
  "vscode": {
   "interpreter": {
    "hash": "32101a8118c94f36cfba773c286bb0b54d6de613c34f73590bc6c816a2930046"
   }
  }
 },
 "nbformat": 4,
 "nbformat_minor": 2
}
